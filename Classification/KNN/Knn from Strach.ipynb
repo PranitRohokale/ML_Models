{
 "cells": [
  {
   "cell_type": "markdown",
   "metadata": {
    "id": "sm7oYGTcP4_D"
   },
   "source": [
    "* Implementation of KNN algorithm. *\n",
    "\n"
   ]
  },
  {
   "cell_type": "code",
   "execution_count": 1,
   "metadata": {
    "id": "EfQdqX2dL_FP"
   },
   "outputs": [],
   "source": [
    "# Importing the necessary libraries.\n",
    "import heapq\n",
    "import pandas  as pd\n",
    "import numpy as np\n",
    "from sklearn import datasets\n",
    "from scipy.spatial import distance\n",
    "import matplotlib.pyplot as plt\n",
    "from sklearn.model_selection import train_test_split"
   ]
  },
  {
   "cell_type": "code",
   "execution_count": 2,
   "metadata": {
    "colab": {
     "base_uri": "https://localhost:8080/"
    },
    "id": "Ina3Y5uKOAhx",
    "outputId": "8c75ab06-9abb-47ba-ea7f-ff383b8d72b5"
   },
   "outputs": [
    {
     "name": "stdout",
     "output_type": "stream",
     "text": [
      "X_trn.shape = (100, 2), X_test.shape = (50, 2)\n",
      "Features: Sepal Width, Petal Width\n"
     ]
    }
   ],
   "source": [
    "# Load Iris Dataset\n",
    "iris = datasets.load_iris()\n",
    "X = iris.data  \n",
    "y = iris.target\n",
    "\n",
    "feature_idxs = [1, 3] \n",
    "\n",
    "feature_names = ['Sepal Length', 'Sepal Width', 'Petal Length', 'Petal Width']\n",
    "xlbl, ylbl = feature_names[feature_idxs[0]], feature_names[feature_idxs[1]] \n",
    "\n",
    "X_trn_, X_test_, y_trn, y_test = train_test_split(X, \n",
    "                                                 y, \n",
    "                                                 test_size=0.33, \n",
    "                                                 random_state=0,\n",
    "                                                 stratify=y)\n",
    "X_trn, X_test = X_trn_[:, feature_idxs], X_test_[:, feature_idxs]\n",
    "\n",
    "print(\"X_trn.shape = {}, X_test.shape = {}\".format(X_trn.shape, X_test.shape))\n",
    "print(\"Features: {}, {}\".format(feature_names[feature_idxs[0]], feature_names[feature_idxs[1]]))"
   ]
  },
  {
   "cell_type": "code",
   "execution_count": 3,
   "metadata": {
    "colab": {
     "base_uri": "https://localhost:8080/",
     "height": 627
    },
    "id": "gZfQufGjN5zh",
    "outputId": "27b6d329-8d7b-4849-8bff-f138ff9ac323"
   },
   "outputs": [
    {
     "data": {
      "image/png": "[encoded data removed]",
      "text/plain": [
       "<Figure size 720x720 with 1 Axes>"
      ]
     },
     "metadata": {
      "needs_background": "light"
     },
     "output_type": "display_data"
    }
   ],
   "source": [
    "# a scatterplot displaying each species based on sepal length (x axis) and sepal length (y axis)\n",
    "colours = ['red', 'green', 'blue']\n",
    "legend = ['Setosa', 'Versicolour', 'Virginica']\n",
    "classes = list(set(y))\n",
    "f = plt.figure(figsize=(10, 10))\n",
    "for i in classes:\n",
    "    idx = np.where(y_trn == classes[i])\n",
    "    plt.scatter(X_trn[idx, 0], \n",
    "                X_trn[idx, 1], \n",
    "                c=colours[i], \n",
    "                label=legend[i] + '_trn')\n",
    "\n",
    "for i in classes:\n",
    "    idx = np.where(y_test == classes[i])\n",
    "    plt.scatter(X_test[idx, 0], \n",
    "                X_test[idx, 1], \n",
    "                c=colours[i], \n",
    "                label=legend[i] + '_test',\n",
    "                marker='x')\n",
    "    \n",
    "    \n",
    "plt.legend()\n",
    "plt.title('Iris Dataset', fontsize=16)\n",
    "plt.xlabel(xlbl, fontsize=16)\n",
    "plt.ylabel(ylbl, fontsize=16)\n",
    "plt.show()"
   ]
  },
  {
   "cell_type": "code",
   "execution_count": 4,
   "metadata": {
    "id": "AVJZ4CQwLTuW"
   },
   "outputs": [],
   "source": [
    "# Coding the class structure\n",
    "class KNN:\n",
    "    # Defining the data we will use in the class\n",
    "    def __init__ (self, X, k= 5):\n",
    "        self.X = X[X.columns[:-1]].values\n",
    "        self.y = X[X.columns[ -1]].values\n",
    "        self.k = k\n",
    "    \n",
    "    \n",
    "    def __distance(self, object_1, object_2):\n",
    "        return distance.euclidean(object_1, object_2)\n",
    "\n",
    "    \n",
    "\n",
    "    def predict(self , data):\n",
    "        self.data = data \n",
    "        distance = []\n",
    "        counter_row = 0 \n",
    "    \n",
    "        for i in self.X:\n",
    "            dst = self.__distance(self.data, i )\n",
    "            heapq.heappush(distance,(dst, self.y[counter_row])) \n",
    "            counter_row += 1 \n",
    "\n",
    "        liste = [0,0,0]\n",
    "        chech_list = distance[0 : self.k]\n",
    "        self.MAX_ELEMENT = -1\n",
    "        self.MAX_NUMBER  = -1\n",
    "        for i in chech_list:\n",
    "            if(i[1] == 0): \n",
    "                liste[0]+=1\n",
    "                if(liste[0] > self.MAX_NUMBER):\n",
    "                    self.MAX_NUMBER  = liste[0]\n",
    "                    self.MAX_ELEMENT = 0\n",
    "            elif(i[1] == 1): \n",
    "                liste[1]+=1\n",
    "                if(liste[1] > self.MAX_NUMBER):\n",
    "                    self.MAX_NUMBER = liste[0]\n",
    "                    self.MAX_ELEMENT = 1\n",
    "            elif(i[1] == 2): \n",
    "                liste[2]+=1\n",
    "                if(liste[2] > self.MAX_NUMBER):\n",
    "                    self.MAX_NUMBER = liste[0]\n",
    "                    self.MAX_ELEMENT = 2\n",
    "        return self.MAX_ELEMENT"
   ]
  },
  {
   "cell_type": "code",
   "execution_count": 5,
   "metadata": {
    "id": "yM-iLw2bLjwL"
   },
   "outputs": [],
   "source": [
    "def main():\n",
    "    iris =  datasets.load_iris()\n",
    "    data = pd.DataFrame(iris.data)\n",
    "    data[\"target\"]= iris.target\n",
    "    data = data.sample(frac=1).reset_index(drop=True)\n",
    "\n",
    "    df       = data[0 : int(len(data)*(3/5))]\n",
    "    df_test  = data[int(len(data)*(3/5))+1 : ]\n",
    "    \n",
    "    \n",
    "    df_test_x = df_test[df_test.columns[:-1]].values\n",
    "    df_test_y = df_test[df_test.columns[ -1]].values\n",
    "    for k in range(3,12):\n",
    "        model = KNN(df, k ) \n",
    "        resultant = []\n",
    "        counter = 0 \n",
    "        for i in df_test_x:\n",
    "            resultat = resultant.append(model.predict(i))\n",
    "            counter +=1 \n",
    "\n",
    "        #control df_test_y    resultat\n",
    "        controle = 0\n",
    "        for i in range(len(resultant)):\n",
    "            if (resultant[i] == df_test_y[i]):\n",
    "                controle += 1\n",
    "\n",
    "        print(f\"k = {k} , succes rate = {(controle/len(resultant))*100}\")"
   ]
  },
  {
   "cell_type": "code",
   "execution_count": 6,
   "metadata": {
    "colab": {
     "base_uri": "https://localhost:8080/"
    },
    "id": "ScAoBuIrLxfx",
    "outputId": "ea834b20-1191-4843-eccc-fbdca3c0e2e1"
   },
   "outputs": [
    {
     "name": "stdout",
     "output_type": "stream",
     "text": [
      "k = 3 , succes rate = 93.22033898305084\n",
      "k = 4 , succes rate = 96.61016949152543\n",
      "k = 5 , succes rate = 91.52542372881356\n",
      "k = 6 , succes rate = 93.22033898305084\n",
      "k = 7 , succes rate = 89.83050847457628\n",
      "k = 8 , succes rate = 86.4406779661017\n",
      "k = 9 , succes rate = 89.83050847457628\n",
      "k = 10 , succes rate = 93.22033898305084\n",
      "k = 11 , succes rate = 93.22033898305084\n"
     ]
    }
   ],
   "source": [
    "main()"
   ]
  },
  {
   "cell_type": "markdown",
   "metadata": {
    "id": "mxEdqm_JSM4A"
   },
   "source": [
    "### Using Sklearn just for comparision purpose"
   ]
  },
  {
   "cell_type": "code",
   "execution_count": 7,
   "metadata": {
    "id": "4GUovn5sSoMR"
   },
   "outputs": [
    {
     "name": "stdout",
     "output_type": "stream",
     "text": [
      "KNeighborsClassifier(n_neighbors=3)\t Accuraccy : 1.0\n",
      "KNeighborsClassifier(n_neighbors=4)\t Accuraccy : 1.0\n",
      "KNeighborsClassifier()\t Accuraccy : 0.98\n",
      "KNeighborsClassifier(n_neighbors=6)\t Accuraccy : 0.98\n",
      "KNeighborsClassifier(n_neighbors=7)\t Accuraccy : 0.98\n",
      "KNeighborsClassifier(n_neighbors=8)\t Accuraccy : 1.0\n",
      "KNeighborsClassifier(n_neighbors=9)\t Accuraccy : 0.98\n",
      "KNeighborsClassifier(n_neighbors=10)\t Accuraccy : 0.96\n",
      "KNeighborsClassifier(n_neighbors=11)\t Accuraccy : 0.98\n"
     ]
    }
   ],
   "source": [
    "from sklearn.neighbors import KNeighborsClassifier\n",
    "\n",
    "for k in range(3,12):\n",
    "    knn = KNeighborsClassifier(n_neighbors = k)\n",
    "    print(knn.fit(X_trn_,y_trn),end=\"\\t Accuraccy : \")\n",
    "    print(knn.score(X_test_,y_test))"
   ]
  },
  {
   "cell_type": "markdown",
   "metadata": {},
   "source": [
    "##### Conclusion\n",
    "\n",
    "- Thus, from this experiment I executed the KNN Algorithm forvalues of k from 3 to 11 and\n",
    "  predicted the accuracy the highest being 96.61% with K=4.\n",
    "\n"
   ]
  }
 ],
 "metadata": {
  "colab": {
   "collapsed_sections": [],
   "name": "ML_Exp06_191070061.ipynb",
   "provenance": []
  },
  "kernelspec": {
   "display_name": "Python 3 (ipykernel)",
   "language": "python",
   "name": "python3"
  },
  "language_info": {
   "codemirror_mode": {
    "name": "ipython",
    "version": 3
   },
   "file_extension": ".py",
   "mimetype": "text/x-python",
   "name": "python",
   "nbconvert_exporter": "python",
   "pygments_lexer": "ipython3",
   "version": "3.10.4"
  }
 },
 "nbformat": 4,
 "nbformat_minor": 1
}
